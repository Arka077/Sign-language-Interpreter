{
 "cells": [
  {
   "cell_type": "code",
   "execution_count": null,
   "metadata": {},
   "outputs": [],
   "source": [
    "import cv2\n",
    "import mediapipe as mp\n",
    "import time\n",
    "import tensorflow as tf\n",
    "import numpy as np\n",
    "import os\n",
    "from collections import Counter\n",
    "from tensorflow.keras.preprocessing.image import img_to_array\n",
    "import math\n",
    "from cvzone.ClassificationModule import Classifier"
   ]
  },
  {
   "cell_type": "code",
   "execution_count": null,
   "metadata": {},
   "outputs": [],
   "source": [
    "cap = cv2.VideoCapture(0)\n",
    "cap.set(cv2.CAP_PROP_FRAME_WIDTH, 1280)\n",
    "cap.set(cv2.CAP_PROP_FRAME_HEIGHT, 720)\n",
    "pTime = 0\n",
    "imgSize = 48  \n",
    "index = 0\n",
    "displaySize = 200\n",
    "frame_count = 0\n",
    "current_prediction = None  \n",
    "confidence_threshold = 0.9"
   ]
  },
  {
   "cell_type": "code",
   "execution_count": null,
   "metadata": {},
   "outputs": [],
   "source": [
    "mpHands = mp.solutions.hands\n",
    "hands = mpHands.Hands(\n",
    "    static_image_mode=False,\n",
    "    max_num_hands=1,\n",
    "    model_complexity=1,\n",
    "    min_detection_confidence=0.9,\n",
    "    min_tracking_confidence=0.7\n",
    ")\n",
    "mpDraw = mp.solutions.drawing_utils\n",
    "mpDrawingStyles = mp.solutions.drawing_styles"
   ]
  },
  {
   "cell_type": "code",
   "execution_count": null,
   "metadata": {},
   "outputs": [],
   "source": [
    "def fps_calculation(img, pTime):\n",
    "    cTime = time.time()\n",
    "    fps = int(1 / (cTime - pTime))\n",
    "    pTime = cTime\n",
    "    cv2.putText(\n",
    "        img, f\"FPS:{fps}\", (10, 70), cv2.FONT_HERSHEY_PLAIN, 2, (255, 0, 255), 2\n",
    "    )\n",
    "    return pTime"
   ]
  },
  {
   "cell_type": "code",
   "execution_count": null,
   "metadata": {},
   "outputs": [],
   "source": [
    "model = tf.keras.models.load_model(\"signlanguage1.h5\")"
   ]
  },
  {
   "cell_type": "code",
   "execution_count": null,
   "metadata": {},
   "outputs": [],
   "source": [
    "class_labels = ['AAROHAN', 'I', 'am', 'are', 'fine', 'hello', 'how', 'to', 'welcome', 'you']"
   ]
  },
  {
   "cell_type": "code",
   "execution_count": null,
   "metadata": {},
   "outputs": [],
   "source": [
    "def show_pred(img, index, x_min, y_min, confidence=None):\n",
    "    if 0 <= index < len(class_labels):\n",
    "        confidence_text = f\" ({confidence:.2f})\" if confidence is not None else \"\"\n",
    "        cv2.putText(\n",
    "            img,\n",
    "            f\"Sign: {class_labels[index]}{confidence_text}\",\n",
    "            (x_min, y_min - 10),\n",
    "            cv2.FONT_HERSHEY_SIMPLEX,\n",
    "            1,\n",
    "            (0, 0, 255),\n",
    "            2,\n",
    "        )"
   ]
  },
  {
   "cell_type": "code",
   "execution_count": null,
   "metadata": {},
   "outputs": [],
   "source": [
    "def modify(imgWhite):\n",
    "    if imgWhite is None or imgWhite.size == 0:\n",
    "        return None\n",
    "    \n",
    "    imgGray = cv2.cvtColor(imgWhite, cv2.COLOR_BGR2GRAY)\n",
    "    imgGray = cv2.resize(imgGray, (50, 50)) \n",
    "    imgGray = imgGray.astype(\"float32\") / 255.0 \n",
    "    imgGray = np.expand_dims(imgGray, axis=-1) \n",
    "    imgGray = np.expand_dims(imgGray, axis=0) \n",
    "\n",
    "\n",
    "    return imgGray"
   ]
  },
  {
   "cell_type": "code",
   "execution_count": null,
   "metadata": {},
   "outputs": [],
   "source": [
    "def crop_hand_from_image(img, handLms):\n",
    "    \"\"\"Crop the hand region from the image using hand landmarks.\"\"\"\n",
    "    h, w, c = img.shape\n",
    "    x_min, y_min = w, h\n",
    "    x_max, y_max = 0, 0\n",
    "\n",
    "    for lm in handLms.landmark:\n",
    "        x, y = int(lm.x * w), int(lm.y * h)\n",
    "        x_min = min(x, x_min)\n",
    "        y_min = min(y, y_min)\n",
    "        x_max = max(x, x_max)\n",
    "        y_max = max(y, y_max)\n",
    "\n",
    "    # Add padding\n",
    "    padding = 40\n",
    "    x_min = max(0, x_min - padding)\n",
    "    y_min = max(0, y_min - padding)\n",
    "    x_max = min(w, x_max + padding)\n",
    "    y_max = min(h, y_max + padding)\n",
    "\n",
    "    # Crop the image\n",
    "    cropped_img = img[y_min:y_max, x_min:x_max]\n",
    "\n",
    "    return cropped_img, (x_min, y_min, x_max, y_max)"
   ]
  },
  {
   "cell_type": "code",
   "execution_count": null,
   "metadata": {},
   "outputs": [],
   "source": [
    "while True:\n",
    "    success, img = cap.read()\n",
    "    imgRgb = cv2.cvtColor(img, cv2.COLOR_BGR2RGB)\n",
    "    results = hands.process(imgRgb)\n",
    "\n",
    "    if results.multi_hand_landmarks:\n",
    "        for handLms in results.multi_hand_landmarks:\n",
    "\n",
    "            # Get cropped hand\n",
    "            cropped_img, bbox = crop_hand_from_image(img, handLms)\n",
    "\n",
    "            if cropped_img.size == 0:\n",
    "                print(\"Warning: Empty cropped image. Skipping frame.\")\n",
    "                continue\n",
    "\n",
    "            # operations on cropped hand\n",
    "            if cropped_img.size != 0:\n",
    "\n",
    "                # Draw bounding box and landmarks\n",
    "                x_min, y_min, x_max, y_max = bbox\n",
    "                cv2.rectangle(img, (x_min, y_min), (x_max, y_max), (0, 255, 0), 2)\n",
    "                mpDraw.draw_landmarks(img, handLms, mpHands.HAND_CONNECTIONS)\n",
    "\n",
    "                h, w = cropped_img.shape[:2]\n",
    "                imgCropShape = cropped_img.shape\n",
    "                imgWhite = np.ones((imgSize, imgSize, 3), np.uint8) * 255\n",
    "\n",
    "                aspectRatio = h / w\n",
    "                if aspectRatio > 1:\n",
    "                    k = imgSize / h\n",
    "                    wCal = math.ceil(k * w)\n",
    "                    imgResize = cv2.resize(cropped_img, (wCal, imgSize))\n",
    "                    imgResizeShape = imgResize.shape\n",
    "                    wGap = math.ceil((imgSize - wCal) / 2)\n",
    "                    imgWhite[0 : imgResizeShape[0], wGap : wCal + wGap] = imgResize\n",
    "\n",
    "                else:\n",
    "                    k = imgSize / w\n",
    "                    hCal = math.ceil(k * h)\n",
    "                    imgResize = cv2.resize(cropped_img, (imgSize, hCal))\n",
    "                    imgResizeShape = imgResize.shape\n",
    "                    hGap = math.ceil((imgSize - hCal) / 2)\n",
    "                    imgWhite[hGap : hCal + hGap, 0 : imgResizeShape[1]] = imgResize\n",
    "                \n",
    "                imgWhiteDisplay = imgWhite.copy()\n",
    "                imgWhite = modify(imgWhite)\n",
    "                if imgWhite is not None:\n",
    "                    \n",
    "                    prediction = model.predict(imgWhite) \n",
    "                    confidence = np.max(prediction)\n",
    "                    index = np.argmax(prediction) \n",
    "                    print(f\"Prediction: {prediction} | Index: {index} | Confidence: {confidence:.2f}\")\n",
    "                    if confidence >= confidence_threshold:\n",
    "                      show_pred(img, index, bbox[0], bbox[1], confidence)\n",
    "                    else:\n",
    "                      print(\"Low confidence prediction. Skipping display.\")\n",
    "\n",
    "                    # Ensure valid display\n",
    "                    if len(imgWhite.shape) == 2:\n",
    "                       imgWhite = cv2.cvtColor(imgWhite, cv2.COLOR_GRAY2BGR)\n",
    "\n",
    "                else:\n",
    "                     print(\"Warning: imgWhite is empty or invalid.\")\n",
    "    # FPS calculation\n",
    "    pTime = fps_calculation(img, pTime)\n",
    "\n",
    "    cv2.imshow(\"Image\", img)\n",
    "\n",
    "    key = cv2.waitKey(1) & 0xFF\n",
    "    if key == ord(\"q\") or key == 27:\n",
    "        break"
   ]
  },
  {
   "cell_type": "code",
   "execution_count": null,
   "metadata": {},
   "outputs": [],
   "source": [
    "cap.release()\n",
    "cv2.destroyAllWindows()"
   ]
  }
 ],
 "metadata": {
  "language_info": {
   "name": "python"
  }
 },
 "nbformat": 4,
 "nbformat_minor": 2
}
